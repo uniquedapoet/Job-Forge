{
 "cells": [
  {
   "cell_type": "code",
   "execution_count": null,
   "id": "2cdfcfe1",
   "metadata": {},
   "outputs": [],
   "source": [
    "sections = {'Header': ['Jackson Giemza',\n",
    "  'Boulder, CO | (708)-340-8105| jackson.giemza@gmail.com | github.com/JacksonGiemza',\n",
    "  'Data scientist with hands-on experience in financial risk analysis, data automation, and Al-driven insights. Skilled in Python, SQL, and machine learning, with a passion for solving complex problems through data-driven decision-making.'],\n",
    " 'Education': ['University of Colorado, Boulder, CO | Expected Graduation Dec 2025',\n",
    "  'Bachelor of Science, Information Science | Minor, Philosophy',\n",
    "  'Relevant Courses: Data Visualization, Statistics, Python for Info Sci 1&2, Linear Algebra, R for Data Science, Logic, Quantitative Reasoning, Physics 1&2, Calculus, Economics, UI/UX Design'],\n",
    " 'Experience': ['Risk Technology Analyst | RJ O’Brien & Associates May 2024 - Aug. 2024, Chicago, IL',\n",
    "  '- Developed a Python-based solution to automate financial audit requests, reducing work for analysts by dynamically generating and scheduling 15+ personalized emails bi-weekly.',\n",
    "  '- Led the project from concept to deployment, including training future maintainers and creating a Power BI dashboard for monitoring requests and manually sending custom emails ad hoc.',\n",
    "  '- Identified the need for and developed a Python GUI for generating customized anonymous test data for users of all technical expertise.',\n",
    "  '- Served as an ambassador for new AI tools by interviewing coworkers to identify pain points in AI adoption and conducting 10+ one-on-one demos teaching how to leverage gen. AI.',\n",
    "  'Data Science Intern | CloudQuant May 2023 - Aug. 2023, Chicago, IL',\n",
    "  '- Expanded the data catalog by 8000+ datasets through seamless integration of various data APIs and dynamic web scrapers.',\n",
    "  '- Strategically utilized the new OpenAI API to automate data entry and cleaning processes, significantly enhancing efficiency while reducing manual workload.',\n",
    "  '- Drove insights through analysis and data visualization.',\n",
    "  'Summer Intern | RJ O’Brien & Associates May 2022 - Aug. 2022, Chicago, IL',\n",
    "  '- Engineered automated risk reports for quarterly and daily distribution.',\n",
    "  '- Designed a comprehensive financial analysis dashboard for vendor viability.',\n",
    "  '- Conducted rigorous User Acceptance Testing for the credit API.'],\n",
    " 'Projects': ['Statistical Arbitrage Trading Strategy',\n",
    "  '- Leveraged public historical market data to identify mean-reverting stock pairs based on cointegration analysis',\n",
    "  '- Backtesting the strategy over 3 years of data, evaluating performance with a Sharpe ratio (1.4), max drawdown (-12%), and win rate (60%), demonstrating consistent profitability in diverse market conditions.',\n",
    "  'Kaggle Competition | Multi Class Prediction of Obesity Risk',\n",
    "  '- Developed a classification model to predict obesity risk rates using logistical regression, random forest, and XGBoost.',\n",
    "  '- Achieved top 8% ranking by optimizing hyperparameters and handling missing data with imputation strategies'],\n",
    " 'Skills': ['Programming: Python, R, SQL (MySQL, PostgreSQL), GIT Data Science: Scikit-Learn, TensorFlow, PyTorch, Pandas, Numpy, NLP Data Visualization: PowerBi, Tableau, Altair, Matplotlib',\n",
    "  'Professional Skills: Analytical Thinking, Curiosity & Lifelong Learning, Adaptability, Communication']}"
   ]
  },
  {
   "cell_type": "code",
   "execution_count": null,
   "id": "dece2b1b",
   "metadata": {},
   "outputs": [],
   "source": [
    "from jinja2 import Environment, FileSystemLoader\n",
    "\n",
    "env = Environment(loader=FileSystemLoader('.'))\n",
    "template = env.get_template(r'sandbox\\test_template.html')\n",
    "html_out = template.render(sections)\n",
    "\n",
    "with open(r'sandbox\\optimized_resume.html', 'w', encoding='utf-8') as f:\n",
    "    f.write(html_out)"
   ]
  }
 ],
 "metadata": {
  "language_info": {
   "name": "python"
  }
 },
 "nbformat": 4,
 "nbformat_minor": 5
}
