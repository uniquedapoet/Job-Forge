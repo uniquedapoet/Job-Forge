{
 "cells": [
  {
   "cell_type": "code",
   "execution_count": 4,
   "metadata": {},
   "outputs": [
    {
     "name": "stdout",
     "output_type": "stream",
     "text": [
      "tensor([[0.5572]])\n"
     ]
    }
   ],
   "source": [
    "from services.score import Score\n",
    "from services import resume_scraper\n",
    "from db_tools import get_job_desc\n",
    "\n",
    "resume_path = 'data\\\\resumes\\\\Jackson_Giemza.pdf'\n",
    "# raw_resume = resume_scraper.extract_text_from_pdf(resume_path)\n",
    "raw_resume = resume_scraper.extract_text_from_pdf('data\\\\resumes\\\\EduardoBenjaminResume-1Page-3.pdf')\n",
    "raw_jd = get_job_desc('1325')\n",
    "\n",
    "scorer = Score(raw_resume, raw_jd)\n",
    "print(scorer.compute_similarity())"
   ]
  }
 ],
 "metadata": {
  "kernelspec": {
   "display_name": "Python 3",
   "language": "python",
   "name": "python3"
  },
  "language_info": {
   "codemirror_mode": {
    "name": "ipython",
    "version": 3
   },
   "file_extension": ".py",
   "mimetype": "text/x-python",
   "name": "python",
   "nbconvert_exporter": "python",
   "pygments_lexer": "ipython3",
   "version": "3.11.9"
  }
 },
 "nbformat": 4,
 "nbformat_minor": 2
}
